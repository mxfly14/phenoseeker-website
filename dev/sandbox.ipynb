{
 "cells": [
  {
   "cell_type": "code",
   "execution_count": 2,
   "metadata": {},
   "outputs": [],
   "source": [
    "import pandas as pd"
   ]
  },
  {
   "cell_type": "code",
   "execution_count": null,
   "metadata": {},
   "outputs": [],
   "source": []
  },
  {
   "cell_type": "code",
   "execution_count": null,
   "metadata": {},
   "outputs": [],
   "source": []
  },
  {
   "cell_type": "code",
   "execution_count": 3,
   "metadata": {},
   "outputs": [],
   "source": [
    "METADATA_FILE = (\n",
    "    \"/projects/synsight/data/website_data/jump_compounds_matrix_metadata.parquet\"\n",
    ")"
   ]
  },
  {
   "cell_type": "code",
   "execution_count": 4,
   "metadata": {},
   "outputs": [],
   "source": [
    "data = pd.read_parquet(METADATA_FILE)"
   ]
  },
  {
   "cell_type": "code",
   "execution_count": 5,
   "metadata": {},
   "outputs": [
    {
     "data": {
      "text/html": [
       "<div>\n",
       "<style scoped>\n",
       "    .dataframe tbody tr th:only-of-type {\n",
       "        vertical-align: middle;\n",
       "    }\n",
       "\n",
       "    .dataframe tbody tr th {\n",
       "        vertical-align: top;\n",
       "    }\n",
       "\n",
       "    .dataframe thead th {\n",
       "        text-align: right;\n",
       "    }\n",
       "</style>\n",
       "<table border=\"1\" class=\"dataframe\">\n",
       "  <thead>\n",
       "    <tr style=\"text-align: right;\">\n",
       "      <th></th>\n",
       "      <th>Metadata_JCP2022</th>\n",
       "      <th>Metadata_InChI</th>\n",
       "      <th>path_embedding</th>\n",
       "    </tr>\n",
       "  </thead>\n",
       "  <tbody>\n",
       "    <tr>\n",
       "      <th>39523</th>\n",
       "      <td>JCP2022_033924</td>\n",
       "      <td>InChI=1S/C2H6OS/c1-4(2)3/h1-2H3</td>\n",
       "      <td>/projects/synsight/data/openphenom/norm_2_comp...</td>\n",
       "    </tr>\n",
       "  </tbody>\n",
       "</table>\n",
       "</div>"
      ],
      "text/plain": [
       "      Metadata_JCP2022                   Metadata_InChI  \\\n",
       "39523   JCP2022_033924  InChI=1S/C2H6OS/c1-4(2)3/h1-2H3   \n",
       "\n",
       "                                          path_embedding  \n",
       "39523  /projects/synsight/data/openphenom/norm_2_comp...  "
      ]
     },
     "execution_count": 5,
     "metadata": {},
     "output_type": "execute_result"
    }
   ],
   "source": [
    "data[data['Metadata_InChI']=='InChI=1S/C2H6OS/c1-4(2)3/h1-2H3']"
   ]
  },
  {
   "cell_type": "code",
   "execution_count": 1,
   "metadata": {},
   "outputs": [
    {
     "ename": "NameError",
     "evalue": "name 'data' is not defined",
     "output_type": "error",
     "traceback": [
      "\u001b[0;31m---------------------------------------------------------------------------\u001b[0m",
      "\u001b[0;31mNameError\u001b[0m                                 Traceback (most recent call last)",
      "Cell \u001b[0;32mIn[1], line 1\u001b[0m\n\u001b[0;32m----> 1\u001b[0m data_test \u001b[38;5;241m=\u001b[39m \u001b[43mdata\u001b[49m\u001b[38;5;241m.\u001b[39msample(n\u001b[38;5;241m=\u001b[39m\u001b[38;5;241m100\u001b[39m)\n",
      "\u001b[0;31mNameError\u001b[0m: name 'data' is not defined"
     ]
    }
   ],
   "source": [
    "data_test = data.sample(n=100)"
   ]
  },
  {
   "cell_type": "code",
   "execution_count": 8,
   "metadata": {},
   "outputs": [
    {
     "data": {
      "text/html": [
       "<div>\n",
       "<style scoped>\n",
       "    .dataframe tbody tr th:only-of-type {\n",
       "        vertical-align: middle;\n",
       "    }\n",
       "\n",
       "    .dataframe tbody tr th {\n",
       "        vertical-align: top;\n",
       "    }\n",
       "\n",
       "    .dataframe thead th {\n",
       "        text-align: right;\n",
       "    }\n",
       "</style>\n",
       "<table border=\"1\" class=\"dataframe\">\n",
       "  <thead>\n",
       "    <tr style=\"text-align: right;\">\n",
       "      <th></th>\n",
       "      <th>Metadata_JCP2022</th>\n",
       "      <th>Metadata_InChI</th>\n",
       "      <th>path_embedding</th>\n",
       "    </tr>\n",
       "  </thead>\n",
       "  <tbody>\n",
       "    <tr>\n",
       "      <th>41701</th>\n",
       "      <td>JCP2022_079314</td>\n",
       "      <td>InChI=1S/C21H28N4O4S/c1-3-25(19-9-11-20(29-2)1...</td>\n",
       "      <td>/projects/synsight/data/openphenom/norm_2_comp...</td>\n",
       "    </tr>\n",
       "    <tr>\n",
       "      <th>104466</th>\n",
       "      <td>JCP2022_057732</td>\n",
       "      <td>InChI=1S/C16H14FN3O/c17-11-5-7-12(8-6-11)18-16...</td>\n",
       "      <td>/projects/synsight/data/openphenom/norm_2_comp...</td>\n",
       "    </tr>\n",
       "    <tr>\n",
       "      <th>54533</th>\n",
       "      <td>JCP2022_111816</td>\n",
       "      <td>InChI=1S/C19H23N3O2/c1-19(2,3)15-6-4-14(5-7-15...</td>\n",
       "      <td>/projects/synsight/data/openphenom/norm_2_comp...</td>\n",
       "    </tr>\n",
       "    <tr>\n",
       "      <th>37426</th>\n",
       "      <td>JCP2022_091363</td>\n",
       "      <td>InChI=1S/C16H12N2O3/c19-16-12-3-1-2-4-13(12)17...</td>\n",
       "      <td>/projects/synsight/data/openphenom/norm_2_comp...</td>\n",
       "    </tr>\n",
       "    <tr>\n",
       "      <th>46220</th>\n",
       "      <td>JCP2022_107676</td>\n",
       "      <td>InChI=1S/C17H18N2O5/c20-12(11-3-4-13-14(9-11)2...</td>\n",
       "      <td>/projects/synsight/data/openphenom/norm_2_comp...</td>\n",
       "    </tr>\n",
       "    <tr>\n",
       "      <th>...</th>\n",
       "      <td>...</td>\n",
       "      <td>...</td>\n",
       "      <td>...</td>\n",
       "    </tr>\n",
       "    <tr>\n",
       "      <th>47256</th>\n",
       "      <td>JCP2022_100199</td>\n",
       "      <td>InChI=1S/C20H18N4O5S2/c1-29-16-8-7-14(19(26)22...</td>\n",
       "      <td>/projects/synsight/data/openphenom/norm_2_comp...</td>\n",
       "    </tr>\n",
       "    <tr>\n",
       "      <th>25215</th>\n",
       "      <td>JCP2022_077105</td>\n",
       "      <td>InChI=1S/C21H20N4O4/c1-13-6-5-9-18(14(13)2)24-...</td>\n",
       "      <td>/projects/synsight/data/openphenom/norm_2_comp...</td>\n",
       "    </tr>\n",
       "    <tr>\n",
       "      <th>6267</th>\n",
       "      <td>JCP2022_100805</td>\n",
       "      <td>InChI=1S/C23H25ClN2O4/c1-25(14-18-9-10-19(30-1...</td>\n",
       "      <td>/projects/synsight/data/openphenom/norm_2_comp...</td>\n",
       "    </tr>\n",
       "    <tr>\n",
       "      <th>19149</th>\n",
       "      <td>JCP2022_080990</td>\n",
       "      <td>InChI=1S/C9H12ClN/c10-9-5-3-8(4-6-9)2-1-7-11/h...</td>\n",
       "      <td>/projects/synsight/data/openphenom/norm_2_comp...</td>\n",
       "    </tr>\n",
       "    <tr>\n",
       "      <th>74475</th>\n",
       "      <td>JCP2022_033713</td>\n",
       "      <td>InChI=1S/C14H14ClN3O2/c1-20-14-16-7-10(15)13(1...</td>\n",
       "      <td>/projects/synsight/data/openphenom/norm_2_comp...</td>\n",
       "    </tr>\n",
       "  </tbody>\n",
       "</table>\n",
       "<p>100 rows × 3 columns</p>\n",
       "</div>"
      ],
      "text/plain": [
       "       Metadata_JCP2022                                     Metadata_InChI  \\\n",
       "41701    JCP2022_079314  InChI=1S/C21H28N4O4S/c1-3-25(19-9-11-20(29-2)1...   \n",
       "104466   JCP2022_057732  InChI=1S/C16H14FN3O/c17-11-5-7-12(8-6-11)18-16...   \n",
       "54533    JCP2022_111816  InChI=1S/C19H23N3O2/c1-19(2,3)15-6-4-14(5-7-15...   \n",
       "37426    JCP2022_091363  InChI=1S/C16H12N2O3/c19-16-12-3-1-2-4-13(12)17...   \n",
       "46220    JCP2022_107676  InChI=1S/C17H18N2O5/c20-12(11-3-4-13-14(9-11)2...   \n",
       "...                 ...                                                ...   \n",
       "47256    JCP2022_100199  InChI=1S/C20H18N4O5S2/c1-29-16-8-7-14(19(26)22...   \n",
       "25215    JCP2022_077105  InChI=1S/C21H20N4O4/c1-13-6-5-9-18(14(13)2)24-...   \n",
       "6267     JCP2022_100805  InChI=1S/C23H25ClN2O4/c1-25(14-18-9-10-19(30-1...   \n",
       "19149    JCP2022_080990  InChI=1S/C9H12ClN/c10-9-5-3-8(4-6-9)2-1-7-11/h...   \n",
       "74475    JCP2022_033713  InChI=1S/C14H14ClN3O2/c1-20-14-16-7-10(15)13(1...   \n",
       "\n",
       "                                           path_embedding  \n",
       "41701   /projects/synsight/data/openphenom/norm_2_comp...  \n",
       "104466  /projects/synsight/data/openphenom/norm_2_comp...  \n",
       "54533   /projects/synsight/data/openphenom/norm_2_comp...  \n",
       "37426   /projects/synsight/data/openphenom/norm_2_comp...  \n",
       "46220   /projects/synsight/data/openphenom/norm_2_comp...  \n",
       "...                                                   ...  \n",
       "47256   /projects/synsight/data/openphenom/norm_2_comp...  \n",
       "25215   /projects/synsight/data/openphenom/norm_2_comp...  \n",
       "6267    /projects/synsight/data/openphenom/norm_2_comp...  \n",
       "19149   /projects/synsight/data/openphenom/norm_2_comp...  \n",
       "74475   /projects/synsight/data/openphenom/norm_2_comp...  \n",
       "\n",
       "[100 rows x 3 columns]"
      ]
     },
     "execution_count": 8,
     "metadata": {},
     "output_type": "execute_result"
    }
   ],
   "source": [
    "data_test"
   ]
  },
  {
   "cell_type": "code",
   "execution_count": null,
   "metadata": {},
   "outputs": [],
   "source": [
    "# Add new columns for metadata (initialize them with default values, e.g., None)\n",
    "data['Zinc_id'] = None  # Replace None with the logic to populate Zinc ids if available\n",
    "data['Canonical_SMILES'] = None  # Replace None with the logic to populate Canonical SMILES if available\n",
    "data['PubChem_id'] = None  # Replace None with the logic to populate PubChem ids if available\n",
    "\n"
   ]
  },
  {
   "cell_type": "code",
   "execution_count": null,
   "metadata": {},
   "outputs": [],
   "source": [
    "\n",
    "updated_parquet_file_path = \"updated_file.parquet\"  # Replace with your desired output file path\n",
    "data.to_parquet(updated_parquet_file_path, index=False)\n",
    "\n",
    "print(\"Metadata columns added successfully!\")\n"
   ]
  }
 ],
 "metadata": {
  "kernelspec": {
   "display_name": ".venv",
   "language": "python",
   "name": "python3"
  },
  "language_info": {
   "codemirror_mode": {
    "name": "ipython",
    "version": 3
   },
   "file_extension": ".py",
   "mimetype": "text/x-python",
   "name": "python",
   "nbconvert_exporter": "python",
   "pygments_lexer": "ipython3",
   "version": "3.10.10"
  }
 },
 "nbformat": 4,
 "nbformat_minor": 2
}
