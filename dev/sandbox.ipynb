{
 "cells": [
  {
   "cell_type": "markdown",
   "metadata": {},
   "source": [
    "# Imports and paths"
   ]
  },
  {
   "cell_type": "code",
   "execution_count": 1,
   "metadata": {},
   "outputs": [],
   "source": [
    "import pandas as pd\n",
    "import numpy as np\n",
    "import matplotlib.pyplot as plt\n",
    "import h5py\n",
    "from tqdm import tqdm\n",
    "from multiprocessing import Pool, cpu_count\n"
   ]
  },
  {
   "cell_type": "code",
   "execution_count": 3,
   "metadata": {},
   "outputs": [],
   "source": [
    "npy_file = (\"/projects/synsight/data/website_data/jump_compounds_matrix.npy\")\n",
    "METADATA_FILE = (\"/projects/synsight/data/website_data/jump_compounds_matrix_metadata.parquet\")\n",
    "output_file = '/projects/synsight/data/website_data/nearest_neighbors.h5'  # Output HDF5 file"
   ]
  },
  {
   "cell_type": "code",
   "execution_count": 2,
   "metadata": {},
   "outputs": [],
   "source": [
    "npy_file = (\"/users/biocomp/msanchez/Documents/website-data/jump_compounds_matrix.npy\")\n",
    "METADATA_FILE = (\"/users/biocomp/msanchez/Documents/website-data/jump_compounds_matrix_metadata.parquet\")\n",
    "output_file = '/users/biocomp/msanchez/Documents/website-data/nearest_neighbors.h5'  # Output HDF5 file"
   ]
  },
  {
   "cell_type": "markdown",
   "metadata": {},
   "source": [
    "# Histograms"
   ]
  },
  {
   "cell_type": "code",
   "execution_count": 4,
   "metadata": {},
   "outputs": [],
   "source": [
    "\n",
    "\n",
    "# Charger la matrice depuis le fichier .npy\n",
    "matrix = np.load(npy_file)\n"
   ]
  },
  {
   "cell_type": "code",
   "execution_count": 5,
   "metadata": {},
   "outputs": [],
   "source": [
    "all_values = matrix.flatten()"
   ]
  },
  {
   "cell_type": "code",
   "execution_count": null,
   "metadata": {},
   "outputs": [],
   "source": [
    "\n",
    "# Afficher la distribution des valeurs avec un histogramme\n",
    "plt.figure(figsize=(8, 6))\n",
    "plt.hist(all_values, bins=5000, log=True, color='blue', alpha=0.3)\n",
    "plt.title('Distribution des valeurs dans la matrice')\n",
    "plt.xlabel('Valeurs')\n",
    "plt.ylabel('Fréquence')\n",
    "plt.grid(axis='y', linestyle='--', alpha=0.7)\n",
    "plt.show()"
   ]
  },
  {
   "cell_type": "code",
   "execution_count": null,
   "metadata": {},
   "outputs": [],
   "source": [
    "\n",
    "# Afficher la distribution des valeurs avec un histogramme\n",
    "plt.figure(figsize=(8, 6))\n",
    "plt.hist(all_values, bins=5000, color='blue', alpha=0.3)\n",
    "plt.title('Distribution des valeurs dans la matrice')\n",
    "plt.xlabel('Valeurs')\n",
    "plt.ylabel('Fréquence')\n",
    "plt.grid(axis='y', linestyle='--', alpha=0.7)\n",
    "plt.show()"
   ]
  },
  {
   "cell_type": "markdown",
   "metadata": {},
   "source": [
    "# Precompute distances"
   ]
  },
  {
   "cell_type": "code",
   "execution_count": 3,
   "metadata": {},
   "outputs": [],
   "source": [
    "m = 100  # Number of nearest neighbors"
   ]
  },
  {
   "cell_type": "code",
   "execution_count": 4,
   "metadata": {},
   "outputs": [],
   "source": [
    "# Load metadata\n",
    "metadata = pd.read_parquet(METADATA_FILE)\n",
    "metadata_ids = metadata['Metadata_JCP2022'].values  # Unique molecule IDs\n"
   ]
  },
  {
   "cell_type": "code",
   "execution_count": null,
   "metadata": {},
   "outputs": [],
   "source": [
    "metadata_ids"
   ]
  },
  {
   "cell_type": "code",
   "execution_count": 6,
   "metadata": {},
   "outputs": [],
   "source": [
    "matrix = np.load(npy_file, mmap_mode='r')  # Memory mapping pour éviter le chargement complet en RAM\n",
    "matrix = matrix.astype(np.float16) "
   ]
  },
  {
   "cell_type": "code",
   "execution_count": null,
   "metadata": {},
   "outputs": [],
   "source": [
    "def process_row(i):\n",
    "    \"\"\"\n",
    "    Process a single row of the distance matrix to find the m closest neighbors\n",
    "    and include the distance to a specific molecule.\n",
    "\n",
    "    Args:\n",
    "        i (int): Index of the row in the distance matrix.\n",
    "\n",
    "    Returns:\n",
    "        tuple: (molecule_id, closest_ids, closest_distances)\n",
    "    \"\"\"\n",
    "    distances = matrix[i]\n",
    "\n",
    "    # Distance to the target molecule (JCP2022_033924)\n",
    "    target_index = np.where(metadata_ids == 'JCP2022_033924')[0][0]\n",
    "    dmso_distance = distances[target_index]\n",
    "\n",
    "    # Find m closest molecules using partial sorting (excluding self if needed)\n",
    "    closest_indices = np.argpartition(distances, m)[1:m+1]  # Top m indices (unsorted)\n",
    "    closest_distances = distances[closest_indices]\n",
    "\n",
    "    # Sort these m indices to ensure proper order\n",
    "    sorted_indices_within_chunk = np.argsort(closest_distances)\n",
    "    closest_indices = closest_indices[sorted_indices_within_chunk]\n",
    "    closest_distances = closest_distances[sorted_indices_within_chunk]\n",
    "\n",
    "    # Get IDs for the closest molecules\n",
    "    closest_ids = metadata_ids[closest_indices]\n",
    "\n",
    "    # Return the results\n",
    "    return metadata_ids[i], closest_ids, closest_distances, dmso_distance\n",
    "\n",
    "# Parallel processing\n",
    "with Pool(processes=cpu_count()) as pool:\n",
    "    # Use tqdm for progress tracking\n",
    "    results = list(tqdm(pool.imap(process_row, range(matrix.shape[0])), total=matrix.shape[0]))\n",
    "\n",
    "\n",
    "\n",
    "\n"
   ]
  },
  {
   "cell_type": "code",
   "execution_count": 25,
   "metadata": {},
   "outputs": [],
   "source": [
    "# Save results to HDF5\n",
    "with h5py.File(output_file, 'w') as h5f:\n",
    "    for molecule_id, closest_ids, closest_distances, dmso_distance in results:\n",
    "        group = h5f.create_group(molecule_id)\n",
    "        group.create_dataset('closest_ids', data=closest_ids.astype('S'))  # Save IDs as strings\n",
    "        group.create_dataset('distances', data=closest_distances)\n",
    "        group.create_dataset('dmso_distance', data=dmso_distance)"
   ]
  },
  {
   "cell_type": "code",
   "execution_count": null,
   "metadata": {},
   "outputs": [],
   "source": [
    "import h5py\n",
    "\n",
    "# Parameters\n",
    "molecule_id = 'JCP2022_080538'  # Example molecule ID\n",
    "\n",
    "# Access the HDF5 file\n",
    "with h5py.File(output_file, 'r') as h5f:\n",
    "    # Check if the molecule_id exists in the HDF5 file\n",
    "    if molecule_id in h5f:\n",
    "        print(f\"Molecule ID {molecule_id} found.\")\n",
    "        \n",
    "        # Access the datasets\n",
    "        closest_ids = h5f[f'{molecule_id}/dmso_distance'][:].astype(str)  # Convert bytes to strings\n",
    "        distances = h5f[f'{molecule_id}/distances'][:]\n",
    "        \n",
    "        # Print the results\n",
    "        print(f'Closest molecules to {molecule_id}:')\n",
    "        print('IDs:', closest_ids)\n",
    "        print('Distances:', distances)\n",
    "    else:\n",
    "        print(f\"Molecule ID {molecule_id} not found in the HDF5 file.\")\n"
   ]
  },
  {
   "cell_type": "code",
   "execution_count": null,
   "metadata": {},
   "outputs": [],
   "source": [
    "import h5py\n",
    "\n",
    "# File path\n",
    "H5_DISTANCE_FILE = output_file\n",
    "\n",
    "# Query molecule ID\n",
    "query_id = \"JCP2022_080538\"  # Replace with the molecule ID you want to query\n",
    "\n",
    "# Open the HDF5 file and retrieve the `dmso_distance`\n",
    "with h5py.File(H5_DISTANCE_FILE, 'r') as h5f:\n",
    "    if query_id in h5f:\n",
    "        dmso_distance = h5f[f\"{query_id}/dmso_distance\"][()]\n",
    "        print(f\"DMSO distance for {query_id}: {dmso_distance}\")\n",
    "    else:\n",
    "        print(f\"Molecule ID {query_id} not found in the HDF5 file.\")\n"
   ]
  },
  {
   "cell_type": "markdown",
   "metadata": {},
   "source": [
    "# Convert to pg10"
   ]
  },
  {
   "cell_type": "code",
   "execution_count": 8,
   "metadata": {},
   "outputs": [],
   "source": [
    "import psycopg2\n",
    "\n",
    "def insert_data_parallel(args):\n",
    "    \"\"\"Insère une molécule et ses voisins dans PostgreSQL en créant une connexion distincte pour chaque process.\"\"\"\n",
    "    molecule_id, closest_ids, closest_distances, dmso_distance = args\n",
    "\n",
    "    # Connexion dédiée pour ce processus\n",
    "    conn = psycopg2.connect(\n",
    "        dbname=\"phenoseeker\",\n",
    "        user=\"phenouser\",\n",
    "        password=\"phenopass\",\n",
    "        host=\"localhost\",\n",
    "        port=\"5432\"\n",
    "    )\n",
    "    cur = conn.cursor()\n",
    "\n",
    "    try:\n",
    "        # Vérifier si la molécule est déjà en base\n",
    "        cur.execute(\"SELECT id FROM molecules WHERE metadata_id = %s\", (molecule_id,))\n",
    "        result = cur.fetchone()\n",
    "\n",
    "        if result:\n",
    "            molecule_db_id = result[0]\n",
    "        else:\n",
    "            cur.execute(\"INSERT INTO molecules (metadata_id) VALUES (%s) RETURNING id\", (molecule_id,))\n",
    "            molecule_db_id = cur.fetchone()[0]\n",
    "            conn.commit()\n",
    "\n",
    "        # Insérer les voisins\n",
    "        for i in range(len(closest_ids)):\n",
    "            neighbor_id = closest_ids[i]\n",
    "            distance = float(closest_distances[i])  # Convertir float16 en float standard\n",
    "\n",
    "            # Vérifier si le voisin existe déjà\n",
    "            cur.execute(\"SELECT id FROM molecules WHERE metadata_id = %s\", (neighbor_id,))\n",
    "            neighbor_result = cur.fetchone()\n",
    "\n",
    "            if neighbor_result:\n",
    "                neighbor_db_id = neighbor_result[0]\n",
    "            else:\n",
    "                cur.execute(\"INSERT INTO molecules (metadata_id) VALUES (%s) RETURNING id\", (neighbor_id,))\n",
    "                neighbor_db_id = cur.fetchone()[0]\n",
    "                conn.commit()\n",
    "\n",
    "            # Insérer la relation de distance\n",
    "            cur.execute(\"\"\"\n",
    "                INSERT INTO distances (molecule_id, neighbor_id, distance)\n",
    "                VALUES (%s, %s, %s) ON CONFLICT DO NOTHING\n",
    "            \"\"\", (molecule_db_id, neighbor_db_id, distance))\n",
    "\n",
    "        conn.commit()\n",
    "\n",
    "    except psycopg2.Error as e:\n",
    "        print(f\"Erreur SQL : {e}\")\n",
    "        conn.rollback()  # Réinitialiser la transaction en cas d'erreur\n",
    "\n",
    "    except Exception as e:\n",
    "        print(f\"Erreur inattendue : {e}\")\n",
    "        conn.rollback()  # Réinitialiser la transaction en cas d'erreur\n",
    "\n",
    "    finally:\n",
    "        cur.close()\n",
    "        conn.close()  # Fermer la connexion pour éviter les fuites\n"
   ]
  },
  {
   "cell_type": "code",
   "execution_count": null,
   "metadata": {},
   "outputs": [],
   "source": [
    "from multiprocessing import Pool, cpu_count\n",
    "from tqdm import tqdm\n",
    "\n",
    "n_job =  cpu_count() - 2\n",
    "\n",
    "# Création d'un pool de processus\n",
    "with Pool(processes=n_job) as pool:\n",
    "    list(tqdm(pool.imap(insert_data_parallel, results), total=len(results)))"
   ]
  },
  {
   "cell_type": "markdown",
   "metadata": {},
   "source": [
    "# Add molecular ids (zinc, chembl, pubchem)"
   ]
  },
  {
   "cell_type": "code",
   "execution_count": null,
   "metadata": {},
   "outputs": [],
   "source": [
    "data[data['Metadata_InChI']=='InChI=1S/C2H6OS/c1-4(2)3/h1-2H3']"
   ]
  },
  {
   "cell_type": "code",
   "execution_count": null,
   "metadata": {},
   "outputs": [],
   "source": [
    "data_test = data.sample(n=100)"
   ]
  },
  {
   "cell_type": "code",
   "execution_count": null,
   "metadata": {},
   "outputs": [],
   "source": [
    "data_test"
   ]
  },
  {
   "cell_type": "code",
   "execution_count": null,
   "metadata": {},
   "outputs": [],
   "source": [
    "# Add new columns for metadata (initialize them with default values, e.g., None)\n",
    "data['Zinc_id'] = None  # Replace None with the logic to populate Zinc ids if available\n",
    "data['Canonical_SMILES'] = None  # Replace None with the logic to populate Canonical SMILES if available\n",
    "data['PubChem_id'] = None  # Replace None with the logic to populate PubChem ids if available\n",
    "\n"
   ]
  },
  {
   "cell_type": "code",
   "execution_count": null,
   "metadata": {},
   "outputs": [],
   "source": [
    "\n",
    "updated_parquet_file_path = \"updated_file.parquet\"  # Replace with your desired output file path\n",
    "data.to_parquet(updated_parquet_file_path, index=False)\n",
    "\n",
    "print(\"Metadata columns added successfully!\")\n"
   ]
  }
 ],
 "metadata": {
  "kernelspec": {
   "display_name": "phenoseeker-website-ZSSntDdW-py3.10",
   "language": "python",
   "name": "python3"
  },
  "language_info": {
   "codemirror_mode": {
    "name": "ipython",
    "version": 3
   },
   "file_extension": ".py",
   "mimetype": "text/x-python",
   "name": "python",
   "nbconvert_exporter": "python",
   "pygments_lexer": "ipython3",
   "version": "3.10.12"
  }
 },
 "nbformat": 4,
 "nbformat_minor": 2
}
