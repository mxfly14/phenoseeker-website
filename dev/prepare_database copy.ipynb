{
 "cells": [
  {
   "cell_type": "markdown",
   "metadata": {},
   "source": [
    "# Imports and paths"
   ]
  },
  {
   "cell_type": "code",
   "execution_count": 1,
   "metadata": {},
   "outputs": [],
   "source": [
    "import pandas as pd\n",
    "import numpy as np\n",
    "import matplotlib.pyplot as plt\n",
    "import h5py\n",
    "from tqdm import tqdm\n",
    "from multiprocessing import Pool, cpu_count\n",
    "from pathlib import Path"
   ]
  },
  {
   "cell_type": "code",
   "execution_count": 2,
   "metadata": {},
   "outputs": [],
   "source": [
    "npy_file = (\"/projects/synsight/data/website_data/jump_compounds_matrix.npy\")\n",
    "METADATA_FILE = (\"/projects/synsight/data/website_data/jump_compounds_matrix_metadata.parquet\")\n",
    "output_file = '/projects/synsight/data/website_data/nearest_neighbors_test.h5'  # Output HDF5 file"
   ]
  },
  {
   "cell_type": "markdown",
   "metadata": {},
   "source": [
    "# Precompute distances"
   ]
  },
  {
   "cell_type": "code",
   "execution_count": 3,
   "metadata": {},
   "outputs": [],
   "source": [
    "m = 1000  # Number of nearest neighbors"
   ]
  },
  {
   "cell_type": "code",
   "execution_count": 4,
   "metadata": {},
   "outputs": [],
   "source": [
    "test_metadata = pd.read_csv('/projects/synsight/repos/phenoseeker-website/dev/molecules_with_pubchem_chembl.csv')"
   ]
  },
  {
   "cell_type": "code",
   "execution_count": 5,
   "metadata": {},
   "outputs": [
    {
     "data": {
      "text/html": [
       "<div>\n",
       "<style scoped>\n",
       "    .dataframe tbody tr th:only-of-type {\n",
       "        vertical-align: middle;\n",
       "    }\n",
       "\n",
       "    .dataframe tbody tr th {\n",
       "        vertical-align: top;\n",
       "    }\n",
       "\n",
       "    .dataframe thead th {\n",
       "        text-align: right;\n",
       "    }\n",
       "</style>\n",
       "<table border=\"1\" class=\"dataframe\">\n",
       "  <thead>\n",
       "    <tr style=\"text-align: right;\">\n",
       "      <th></th>\n",
       "      <th>Metadata_JCP2022</th>\n",
       "      <th>Metadata_InChI</th>\n",
       "      <th>path_embedding</th>\n",
       "      <th>InChIKey</th>\n",
       "      <th>PubChem_ID</th>\n",
       "      <th>ChEMBL_ID</th>\n",
       "    </tr>\n",
       "  </thead>\n",
       "  <tbody>\n",
       "    <tr>\n",
       "      <th>0</th>\n",
       "      <td>JCP2022_108820</td>\n",
       "      <td>InChI=1S/C18H17NO7/c1-11(20)26-14-6-7-16(15(9-...</td>\n",
       "      <td>/projects/synsight/data/openphenom/norm_2_comp...</td>\n",
       "      <td>YJGWMUPKRXDZJL-UHFFFAOYSA-N</td>\n",
       "      <td>3566022</td>\n",
       "      <td>NaN</td>\n",
       "    </tr>\n",
       "    <tr>\n",
       "      <th>1</th>\n",
       "      <td>JCP2022_078486</td>\n",
       "      <td>InChI=1S/C15H28N4O3S/c1-12-7-10-19(11-8-12)9-5...</td>\n",
       "      <td>/projects/synsight/data/openphenom/norm_2_comp...</td>\n",
       "      <td>RHVVFNOWSUHOMT-UHFFFAOYSA-N</td>\n",
       "      <td>86778624</td>\n",
       "      <td>CHEMBL4924980</td>\n",
       "    </tr>\n",
       "    <tr>\n",
       "      <th>2</th>\n",
       "      <td>JCP2022_086327</td>\n",
       "      <td>InChI=1S/C19H19BrN4O/c1-13-18(15-6-4-3-5-7-15)...</td>\n",
       "      <td>/projects/synsight/data/openphenom/norm_2_comp...</td>\n",
       "      <td>SYBJQAWDEXICLR-UHFFFAOYSA-N</td>\n",
       "      <td>122161574</td>\n",
       "      <td>NaN</td>\n",
       "    </tr>\n",
       "    <tr>\n",
       "      <th>3</th>\n",
       "      <td>JCP2022_008667</td>\n",
       "      <td>InChI=1S/C12H14N2O2S2/c1-8-4-6-11(7-5-8)18(15,...</td>\n",
       "      <td>/projects/synsight/data/openphenom/norm_2_comp...</td>\n",
       "      <td>BUAFJXXXUDMLJO-UHFFFAOYSA-N</td>\n",
       "      <td>548045</td>\n",
       "      <td>CHEMBL1382626</td>\n",
       "    </tr>\n",
       "    <tr>\n",
       "      <th>4</th>\n",
       "      <td>JCP2022_012583</td>\n",
       "      <td>InChI=1S/C22H33N3O3/c1-17(2)9-16-28-19-5-3-18(...</td>\n",
       "      <td>/projects/synsight/data/openphenom/norm_2_comp...</td>\n",
       "      <td>CPCMBIPMYCFDNT-UHFFFAOYSA-N</td>\n",
       "      <td>124204801</td>\n",
       "      <td>NaN</td>\n",
       "    </tr>\n",
       "    <tr>\n",
       "      <th>5</th>\n",
       "      <td>JCP2022_070427</td>\n",
       "      <td>InChI=1S/C23H23NO2/c1-2-17-8-9-21-20(15-23(25)...</td>\n",
       "      <td>/projects/synsight/data/openphenom/norm_2_comp...</td>\n",
       "      <td>PRCKGPKGLNUWJI-UHFFFAOYSA-N</td>\n",
       "      <td>2461072</td>\n",
       "      <td>CHEMBL1525486</td>\n",
       "    </tr>\n",
       "    <tr>\n",
       "      <th>6</th>\n",
       "      <td>JCP2022_031449</td>\n",
       "      <td>InChI=1S/C17H22N6O2/c1-21-15(12-3-4-12)13(11-1...</td>\n",
       "      <td>/projects/synsight/data/openphenom/norm_2_comp...</td>\n",
       "      <td>HOAZQKOKYJTJRK-UHFFFAOYSA-N</td>\n",
       "      <td>49025680</td>\n",
       "      <td>CHEMBL3469234</td>\n",
       "    </tr>\n",
       "    <tr>\n",
       "      <th>7</th>\n",
       "      <td>JCP2022_022677</td>\n",
       "      <td>InChI=1S/C14H15N3O3S/c1-2-20-13(19)10-3-5-11(6...</td>\n",
       "      <td>/projects/synsight/data/openphenom/norm_2_comp...</td>\n",
       "      <td>FSODNBIPUNZDQT-UHFFFAOYSA-N</td>\n",
       "      <td>1922396</td>\n",
       "      <td>CHEMBL1531273</td>\n",
       "    </tr>\n",
       "    <tr>\n",
       "      <th>8</th>\n",
       "      <td>JCP2022_101439</td>\n",
       "      <td>InChI=1S/C20H23N5O2/c1-4-16(19(26)21-14-10-11-...</td>\n",
       "      <td>/projects/synsight/data/openphenom/norm_2_comp...</td>\n",
       "      <td>WVIFQTZSBSHZGG-UHFFFAOYSA-N</td>\n",
       "      <td>20919750</td>\n",
       "      <td>CHEMBL1452584</td>\n",
       "    </tr>\n",
       "    <tr>\n",
       "      <th>9</th>\n",
       "      <td>JCP2022_073507</td>\n",
       "      <td>InChI=1S/C11H10N6/c1-2-4-9-8(3-1)13-10(12-7-5-...</td>\n",
       "      <td>/projects/synsight/data/openphenom/norm_2_comp...</td>\n",
       "      <td>QHQAYTZYYODIIJ-UHFFFAOYSA-N</td>\n",
       "      <td>6623390</td>\n",
       "      <td>NaN</td>\n",
       "    </tr>\n",
       "  </tbody>\n",
       "</table>\n",
       "</div>"
      ],
      "text/plain": [
       "  Metadata_JCP2022                                     Metadata_InChI  \\\n",
       "0   JCP2022_108820  InChI=1S/C18H17NO7/c1-11(20)26-14-6-7-16(15(9-...   \n",
       "1   JCP2022_078486  InChI=1S/C15H28N4O3S/c1-12-7-10-19(11-8-12)9-5...   \n",
       "2   JCP2022_086327  InChI=1S/C19H19BrN4O/c1-13-18(15-6-4-3-5-7-15)...   \n",
       "3   JCP2022_008667  InChI=1S/C12H14N2O2S2/c1-8-4-6-11(7-5-8)18(15,...   \n",
       "4   JCP2022_012583  InChI=1S/C22H33N3O3/c1-17(2)9-16-28-19-5-3-18(...   \n",
       "5   JCP2022_070427  InChI=1S/C23H23NO2/c1-2-17-8-9-21-20(15-23(25)...   \n",
       "6   JCP2022_031449  InChI=1S/C17H22N6O2/c1-21-15(12-3-4-12)13(11-1...   \n",
       "7   JCP2022_022677  InChI=1S/C14H15N3O3S/c1-2-20-13(19)10-3-5-11(6...   \n",
       "8   JCP2022_101439  InChI=1S/C20H23N5O2/c1-4-16(19(26)21-14-10-11-...   \n",
       "9   JCP2022_073507  InChI=1S/C11H10N6/c1-2-4-9-8(3-1)13-10(12-7-5-...   \n",
       "\n",
       "                                      path_embedding  \\\n",
       "0  /projects/synsight/data/openphenom/norm_2_comp...   \n",
       "1  /projects/synsight/data/openphenom/norm_2_comp...   \n",
       "2  /projects/synsight/data/openphenom/norm_2_comp...   \n",
       "3  /projects/synsight/data/openphenom/norm_2_comp...   \n",
       "4  /projects/synsight/data/openphenom/norm_2_comp...   \n",
       "5  /projects/synsight/data/openphenom/norm_2_comp...   \n",
       "6  /projects/synsight/data/openphenom/norm_2_comp...   \n",
       "7  /projects/synsight/data/openphenom/norm_2_comp...   \n",
       "8  /projects/synsight/data/openphenom/norm_2_comp...   \n",
       "9  /projects/synsight/data/openphenom/norm_2_comp...   \n",
       "\n",
       "                      InChIKey  PubChem_ID      ChEMBL_ID  \n",
       "0  YJGWMUPKRXDZJL-UHFFFAOYSA-N     3566022            NaN  \n",
       "1  RHVVFNOWSUHOMT-UHFFFAOYSA-N    86778624  CHEMBL4924980  \n",
       "2  SYBJQAWDEXICLR-UHFFFAOYSA-N   122161574            NaN  \n",
       "3  BUAFJXXXUDMLJO-UHFFFAOYSA-N      548045  CHEMBL1382626  \n",
       "4  CPCMBIPMYCFDNT-UHFFFAOYSA-N   124204801            NaN  \n",
       "5  PRCKGPKGLNUWJI-UHFFFAOYSA-N     2461072  CHEMBL1525486  \n",
       "6  HOAZQKOKYJTJRK-UHFFFAOYSA-N    49025680  CHEMBL3469234  \n",
       "7  FSODNBIPUNZDQT-UHFFFAOYSA-N     1922396  CHEMBL1531273  \n",
       "8  WVIFQTZSBSHZGG-UHFFFAOYSA-N    20919750  CHEMBL1452584  \n",
       "9  QHQAYTZYYODIIJ-UHFFFAOYSA-N     6623390            NaN  "
      ]
     },
     "execution_count": 5,
     "metadata": {},
     "output_type": "execute_result"
    }
   ],
   "source": [
    "test_metadata"
   ]
  },
  {
   "cell_type": "code",
   "execution_count": 6,
   "metadata": {},
   "outputs": [],
   "source": [
    "embeddings = np.load(\"/projects/synsight/data/website_data/jump_compounds_embeddings.npy\")"
   ]
  },
  {
   "cell_type": "code",
   "execution_count": 7,
   "metadata": {},
   "outputs": [],
   "source": [
    "embeddings = embeddings[:10,: ] "
   ]
  },
  {
   "cell_type": "code",
   "execution_count": 10,
   "metadata": {},
   "outputs": [],
   "source": [
    "\n",
    "\n",
    "norms = np.linalg.norm(embeddings, axis=1, keepdims=True)\n",
    "normalized_embeddings = embeddings / norms\n",
    "\n",
    "# Compute cosine similarity matrix: (10, 384) dot (384, 10) = (10, 10)\n",
    "cosine_similarity = np.dot(normalized_embeddings, normalized_embeddings.T)\n",
    "\n",
    "# Convert similarity to cosine distance: cosine distance = 1 - cosine similarity\n",
    "cosine_distance = 1 - cosine_similarity\n",
    "\n"
   ]
  },
  {
   "cell_type": "code",
   "execution_count": 11,
   "metadata": {},
   "outputs": [],
   "source": [
    "matrix = cosine_distance"
   ]
  },
  {
   "cell_type": "code",
   "execution_count": 12,
   "metadata": {},
   "outputs": [],
   "source": [
    "np.save('test_matrix.npy', matrix)"
   ]
  },
  {
   "cell_type": "code",
   "execution_count": null,
   "metadata": {},
   "outputs": [],
   "source": [
    "# Load metadata\n",
    "metadata = pd.read_parquet(METADATA_FILE)\n",
    "metadata_ids = metadata['Metadata_JCP2022'].values  # Unique molecule IDs\n"
   ]
  },
  {
   "cell_type": "code",
   "execution_count": null,
   "metadata": {},
   "outputs": [],
   "source": [
    "metadata = test_metadata[['Metadata_InChI', 'Metadata_JCP2022', 'InChIKey', 'PubChem_ID', 'ChEMBL_ID']]"
   ]
  },
  {
   "cell_type": "code",
   "execution_count": null,
   "metadata": {},
   "outputs": [],
   "source": [
    "metadata.columns = ['Metadata_InChI', 'Metadata_JCP2022', 'Metadata_InChIKey', 'Metadata_PubChem_ID', 'Metadata_ChEMBL_ID']"
   ]
  },
  {
   "cell_type": "code",
   "execution_count": null,
   "metadata": {},
   "outputs": [],
   "source": [
    "metadata.info()"
   ]
  },
  {
   "cell_type": "code",
   "execution_count": null,
   "metadata": {},
   "outputs": [],
   "source": [
    "metadata['Metadata_JCP2022']"
   ]
  },
  {
   "cell_type": "code",
   "execution_count": null,
   "metadata": {},
   "outputs": [],
   "source": [
    "matrix = np.load(npy_file)"
   ]
  },
  {
   "cell_type": "code",
   "execution_count": null,
   "metadata": {},
   "outputs": [],
   "source": [
    "matrix"
   ]
  },
  {
   "cell_type": "code",
   "execution_count": null,
   "metadata": {},
   "outputs": [],
   "source": [
    "m=9"
   ]
  },
  {
   "cell_type": "code",
   "execution_count": null,
   "metadata": {},
   "outputs": [],
   "source": [
    "def process_row(i):\n",
    "    \"\"\"\n",
    "    Process a single row of the distance matrix to find the m closest neighbors\n",
    "    and include the distance to a specific molecule.\n",
    "\n",
    "    Args:\n",
    "        i (int): Index of the row in the distance matrix.\n",
    "\n",
    "    Returns:\n",
    "        tuple: (molecule_id, closest_ids, closest_distances)\n",
    "    \"\"\"\n",
    "    distances = matrix[i]\n",
    "\n",
    "    # Distance to the target molecule (JCP2022_033924)\n",
    "    target_index = np.where(metadata_ids == 'JCP2022_031449')[0][0]\n",
    "    dmso_distance = distances[target_index]\n",
    "\n",
    "    # Find m closest molecules using partial sorting (excluding self if needed)\n",
    "    closest_indices = np.argpartition(distances, m)[1:m+1]  # Top m indices (unsorted)\n",
    "    closest_distances = distances[closest_indices]\n",
    "\n",
    "    # Sort these m indices to ensure proper order\n",
    "    sorted_indices_within_chunk = np.argsort(closest_distances)\n",
    "    closest_indices = closest_indices[sorted_indices_within_chunk]\n",
    "    closest_distances = closest_distances[sorted_indices_within_chunk]\n",
    "\n",
    "    # Get IDs for the closest molecules\n",
    "    closest_ids = metadata_ids[closest_indices]\n",
    "\n",
    "    # Return the results\n",
    "    return metadata_ids[i], closest_ids, closest_distances, dmso_distance\n",
    "\n",
    "# Parallel processing\n",
    "with Pool(processes=cpu_count()) as pool:\n",
    "    # Use tqdm for progress tracking\n",
    "    results = list(tqdm(pool.imap(process_row, range(matrix.shape[0])), total=matrix.shape[0]))\n",
    "\n",
    "\n",
    "\n",
    "# Save results to HDF5\n",
    "with h5py.File(output_file, 'w') as h5f:\n",
    "    for molecule_id, closest_ids, closest_distances, dmso_distance in results:\n",
    "        group = h5f.create_group(molecule_id)\n",
    "        group.create_dataset('closest_ids', data=closest_ids.astype('S'))  # Save IDs as strings\n",
    "        group.create_dataset('distances', data=closest_distances)\n",
    "        group.create_dataset('dmso_distance', data=dmso_distance)\n"
   ]
  },
  {
   "cell_type": "code",
   "execution_count": null,
   "metadata": {},
   "outputs": [],
   "source": [
    "output_file"
   ]
  },
  {
   "cell_type": "code",
   "execution_count": null,
   "metadata": {},
   "outputs": [],
   "source": [
    "# Save results to HDF5\n",
    "with h5py.File(output_file, 'w') as h5f:\n",
    "    for molecule_id, closest_ids, closest_distances, dmso_distance in results:\n",
    "        group = h5f.create_group(molecule_id)\n",
    "        group.create_dataset('closest_ids', data=closest_ids.astype('S'))  # Save IDs as strings\n",
    "        group.create_dataset('distances', data=closest_distances)\n",
    "        group.create_dataset('dmso_distance', data=dmso_distance)"
   ]
  },
  {
   "cell_type": "code",
   "execution_count": null,
   "metadata": {},
   "outputs": [],
   "source": [
    "import h5py\n",
    "\n",
    "# File path\n",
    "H5_DISTANCE_FILE = output_file\n",
    "\n",
    "# Query molecule ID\n",
    "query_id = \"JCP2022_078486\"  # Replace with the molecule ID you want to query\n",
    "\n",
    "# Open the HDF5 file and retrieve the `dmso_distance`\n",
    "with h5py.File(H5_DISTANCE_FILE, 'r') as h5f:\n",
    "    if query_id in h5f:\n",
    "        dmso_distance = h5f[f\"{query_id}/dmso_distance\"][()]\n",
    "        print(f\"DMSO distance for {query_id}: {dmso_distance}\")\n",
    "    else:\n",
    "        print(f\"Molecule ID {query_id} not found in the HDF5 file.\")\n"
   ]
  },
  {
   "cell_type": "markdown",
   "metadata": {},
   "source": [
    "# Convert to pg10"
   ]
  },
  {
   "cell_type": "code",
   "execution_count": null,
   "metadata": {},
   "outputs": [],
   "source": [
    "import psycopg2\n"
   ]
  },
  {
   "cell_type": "code",
   "execution_count": null,
   "metadata": {},
   "outputs": [],
   "source": [
    "\n",
    "np.load('/projects/synsight/repos/phenoseeker-website/dev/distance_matrix.npy').shape"
   ]
  },
  {
   "cell_type": "code",
   "execution_count": null,
   "metadata": {},
   "outputs": [],
   "source": [
    "# Connect to your PostgreSQL database\n",
    "conn = psycopg2.connect(\n",
    "    dbname=\"phenoseeker\",\n",
    "    user=\"phenosk\",\n",
    "    password=\"yourpassword\",\n",
    "    host=\"pg10!dmsi.biologie.ens.fr\",\n",
    ")\n",
    "cur = conn.cursor()"
   ]
  }
 ],
 "metadata": {
  "kernelspec": {
   "display_name": ".venv",
   "language": "python",
   "name": "python3"
  },
  "language_info": {
   "codemirror_mode": {
    "name": "ipython",
    "version": 3
   },
   "file_extension": ".py",
   "mimetype": "text/x-python",
   "name": "python",
   "nbconvert_exporter": "python",
   "pygments_lexer": "ipython3",
   "version": "3.10.10"
  }
 },
 "nbformat": 4,
 "nbformat_minor": 2
}
