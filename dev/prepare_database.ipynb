{
 "cells": [
  {
   "cell_type": "markdown",
   "metadata": {},
   "source": [
    "# Imports and paths"
   ]
  },
  {
   "cell_type": "code",
   "execution_count": null,
   "metadata": {},
   "outputs": [],
   "source": [
    "import pandas as pd\n",
    "import numpy as np\n",
    "import matplotlib.pyplot as plt\n",
    "import h5py\n",
    "from tqdm import tqdm\n",
    "from multiprocessing import Pool, cpu_count\n",
    "from pathlib import Path"
   ]
  },
  {
   "cell_type": "code",
   "execution_count": null,
   "metadata": {},
   "outputs": [],
   "source": [
    "npy_file = (\"/projects/synsight/data/website_data/jump_compounds_matrix.npy\")\n",
    "METADATA_FILE = (\"/projects/synsight/data/website_data/jump_compounds_matrix_metadata.parquet\")\n",
    "output_file = '/projects/synsight/data/website_data/nearest_neighbors.h5'  # Output HDF5 file"
   ]
  },
  {
   "cell_type": "markdown",
   "metadata": {},
   "source": [
    "# Precompute distances"
   ]
  },
  {
   "cell_type": "code",
   "execution_count": null,
   "metadata": {},
   "outputs": [],
   "source": [
    "m = 1000  # Number of nearest neighbors"
   ]
  },
  {
   "cell_type": "code",
   "execution_count": null,
   "metadata": {},
   "outputs": [],
   "source": [
    "# Load metadata\n",
    "metadata = pd.read_parquet(METADATA_FILE)\n",
    "metadata_ids = metadata['Metadata_JCP2022'].values  # Unique molecule IDs\n"
   ]
  },
  {
   "cell_type": "code",
   "execution_count": null,
   "metadata": {},
   "outputs": [],
   "source": [
    "metadata.info()"
   ]
  },
  {
   "cell_type": "code",
   "execution_count": null,
   "metadata": {},
   "outputs": [],
   "source": [
    "matrix = np.load(npy_file)"
   ]
  },
  {
   "cell_type": "code",
   "execution_count": null,
   "metadata": {},
   "outputs": [],
   "source": [
    "matrix"
   ]
  },
  {
   "cell_type": "code",
   "execution_count": null,
   "metadata": {},
   "outputs": [],
   "source": [
    "test_metadata = pd.read_csv('/projects/synsight/repos/phenoseeker-website/dev/molecules_with_pubchem_chembl.csv')"
   ]
  },
  {
   "cell_type": "code",
   "execution_count": null,
   "metadata": {},
   "outputs": [],
   "source": [
    "def process_row(i):\n",
    "    \"\"\"\n",
    "    Process a single row of the distance matrix to find the m closest neighbors\n",
    "    and include the distance to a specific molecule.\n",
    "\n",
    "    Args:\n",
    "        i (int): Index of the row in the distance matrix.\n",
    "\n",
    "    Returns:\n",
    "        tuple: (molecule_id, closest_ids, closest_distances)\n",
    "    \"\"\"\n",
    "    distances = matrix[i]\n",
    "\n",
    "    # Distance to the target molecule (JCP2022_033924)\n",
    "    target_index = np.where(metadata_ids == 'JCP2022_033924')[0][0]\n",
    "    dmso_distance = distances[target_index]\n",
    "\n",
    "    # Find m closest molecules using partial sorting (excluding self if needed)\n",
    "    closest_indices = np.argpartition(distances, m)[1:m+1]  # Top m indices (unsorted)\n",
    "    closest_distances = distances[closest_indices]\n",
    "\n",
    "    # Sort these m indices to ensure proper order\n",
    "    sorted_indices_within_chunk = np.argsort(closest_distances)\n",
    "    closest_indices = closest_indices[sorted_indices_within_chunk]\n",
    "    closest_distances = closest_distances[sorted_indices_within_chunk]\n",
    "\n",
    "    # Get IDs for the closest molecules\n",
    "    closest_ids = metadata_ids[closest_indices]\n",
    "\n",
    "    # Return the results\n",
    "    return metadata_ids[i], closest_ids, closest_distances, dmso_distance\n",
    "\n",
    "# Parallel processing\n",
    "with Pool(processes=cpu_count()) as pool:\n",
    "    # Use tqdm for progress tracking\n",
    "    results = list(tqdm(pool.imap(process_row, range(matrix.shape[0])), total=matrix.shape[0]))\n",
    "\n",
    "\n",
    "\n",
    "\n"
   ]
  },
  {
   "cell_type": "code",
   "execution_count": null,
   "metadata": {},
   "outputs": [],
   "source": [
    "# Save results to HDF5\n",
    "with h5py.File(output_file, 'w') as h5f:\n",
    "    for molecule_id, closest_ids, closest_distances, dmso_distance in results:\n",
    "        group = h5f.create_group(molecule_id)\n",
    "        group.create_dataset('closest_ids', data=closest_ids.astype('S'))  # Save IDs as strings\n",
    "        group.create_dataset('distances', data=closest_distances)\n",
    "        group.create_dataset('dmso_distance', data=dmso_distance)"
   ]
  },
  {
   "cell_type": "code",
   "execution_count": null,
   "metadata": {},
   "outputs": [],
   "source": [
    "import h5py\n",
    "\n",
    "# Parameters\n",
    "molecule_id = 'JCP2022_080538'  # Example molecule ID\n",
    "\n",
    "# Access the HDF5 file\n",
    "with h5py.File(output_file, 'r') as h5f:\n",
    "    # Check if the molecule_id exists in the HDF5 file\n",
    "    if molecule_id in h5f:\n",
    "        print(f\"Molecule ID {molecule_id} found.\")\n",
    "        \n",
    "        # Access the datasets\n",
    "        closest_ids = h5f[f'{molecule_id}/dmso_distance'][:].astype(str)  # Convert bytes to strings\n",
    "        distances = h5f[f'{molecule_id}/distances'][:]\n",
    "        \n",
    "        # Print the results\n",
    "        print(f'Closest molecules to {molecule_id}:')\n",
    "        print('IDs:', closest_ids)\n",
    "        print('Distances:', distances)\n",
    "    else:\n",
    "        print(f\"Molecule ID {molecule_id} not found in the HDF5 file.\")\n"
   ]
  },
  {
   "cell_type": "code",
   "execution_count": null,
   "metadata": {},
   "outputs": [],
   "source": [
    "import h5py\n",
    "\n",
    "# File path\n",
    "H5_DISTANCE_FILE = output_file\n",
    "\n",
    "# Query molecule ID\n",
    "query_id = \"JCP2022_080538\"  # Replace with the molecule ID you want to query\n",
    "\n",
    "# Open the HDF5 file and retrieve the `dmso_distance`\n",
    "with h5py.File(H5_DISTANCE_FILE, 'r') as h5f:\n",
    "    if query_id in h5f:\n",
    "        dmso_distance = h5f[f\"{query_id}/dmso_distance\"][()]\n",
    "        print(f\"DMSO distance for {query_id}: {dmso_distance}\")\n",
    "    else:\n",
    "        print(f\"Molecule ID {query_id} not found in the HDF5 file.\")\n"
   ]
  },
  {
   "cell_type": "markdown",
   "metadata": {},
   "source": [
    "# Convert to pg10"
   ]
  },
  {
   "cell_type": "code",
   "execution_count": null,
   "metadata": {},
   "outputs": [],
   "source": []
  }
 ],
 "metadata": {
  "kernelspec": {
   "display_name": ".venv",
   "language": "python",
   "name": "python3"
  },
  "language_info": {
   "codemirror_mode": {
    "name": "ipython",
    "version": 3
   },
   "file_extension": ".py",
   "mimetype": "text/x-python",
   "name": "python",
   "nbconvert_exporter": "python",
   "pygments_lexer": "ipython3",
   "version": "3.10.10"
  }
 },
 "nbformat": 4,
 "nbformat_minor": 2
}
